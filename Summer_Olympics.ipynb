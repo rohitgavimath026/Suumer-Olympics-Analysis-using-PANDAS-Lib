{
  "nbformat": 4,
  "nbformat_minor": 0,
  "metadata": {
    "colab": {
      "name": "Summer Olympics.ipynb",
      "provenance": [],
      "collapsed_sections": []
    },
    "kernelspec": {
      "name": "python3",
      "display_name": "Python 3"
    },
    "language_info": {
      "name": "python"
    }
  },
  "cells": [
    {
      "cell_type": "markdown",
      "metadata": {
        "id": "bC-u5sU9pphs"
      },
      "source": [
        "# **Summer Olympics Analysis**"
      ]
    },
    {
      "cell_type": "code",
      "metadata": {
        "colab": {
          "base_uri": "https://localhost:8080/",
          "height": 417
        },
        "id": "mR_0W4fdoQc4",
        "outputId": "cbb8065a-59bb-48d0-f8ce-573438dbe394"
      },
      "source": [
        "import pandas as pd\n",
        "df = pd.read_csv(\"Summer_Olympics.csv\")\n",
        "df"
      ],
      "execution_count": 1,
      "outputs": [
        {
          "output_type": "execute_result",
          "data": {
            "text/html": [
              "<div>\n",
              "<style scoped>\n",
              "    .dataframe tbody tr th:only-of-type {\n",
              "        vertical-align: middle;\n",
              "    }\n",
              "\n",
              "    .dataframe tbody tr th {\n",
              "        vertical-align: top;\n",
              "    }\n",
              "\n",
              "    .dataframe thead th {\n",
              "        text-align: right;\n",
              "    }\n",
              "</style>\n",
              "<table border=\"1\" class=\"dataframe\">\n",
              "  <thead>\n",
              "    <tr style=\"text-align: right;\">\n",
              "      <th></th>\n",
              "      <th>Year</th>\n",
              "      <th>City</th>\n",
              "      <th>Sport</th>\n",
              "      <th>Discipline</th>\n",
              "      <th>Athlete</th>\n",
              "      <th>Country</th>\n",
              "      <th>Gender</th>\n",
              "      <th>Event</th>\n",
              "      <th>Medal</th>\n",
              "    </tr>\n",
              "  </thead>\n",
              "  <tbody>\n",
              "    <tr>\n",
              "      <th>0</th>\n",
              "      <td>1896</td>\n",
              "      <td>Athens</td>\n",
              "      <td>Aquatics</td>\n",
              "      <td>Swimming</td>\n",
              "      <td>HAJOS, Alfred</td>\n",
              "      <td>HUN</td>\n",
              "      <td>Men</td>\n",
              "      <td>100M Freestyle</td>\n",
              "      <td>Gold</td>\n",
              "    </tr>\n",
              "    <tr>\n",
              "      <th>1</th>\n",
              "      <td>1896</td>\n",
              "      <td>Athens</td>\n",
              "      <td>Aquatics</td>\n",
              "      <td>Swimming</td>\n",
              "      <td>HERSCHMANN, Otto</td>\n",
              "      <td>AUT</td>\n",
              "      <td>Men</td>\n",
              "      <td>100M Freestyle</td>\n",
              "      <td>Silver</td>\n",
              "    </tr>\n",
              "    <tr>\n",
              "      <th>2</th>\n",
              "      <td>1896</td>\n",
              "      <td>Athens</td>\n",
              "      <td>Aquatics</td>\n",
              "      <td>Swimming</td>\n",
              "      <td>DRIVAS, Dimitrios</td>\n",
              "      <td>GRE</td>\n",
              "      <td>Men</td>\n",
              "      <td>100M Freestyle For Sailors</td>\n",
              "      <td>Bronze</td>\n",
              "    </tr>\n",
              "    <tr>\n",
              "      <th>3</th>\n",
              "      <td>1896</td>\n",
              "      <td>Athens</td>\n",
              "      <td>Aquatics</td>\n",
              "      <td>Swimming</td>\n",
              "      <td>MALOKINIS, Ioannis</td>\n",
              "      <td>GRE</td>\n",
              "      <td>Men</td>\n",
              "      <td>100M Freestyle For Sailors</td>\n",
              "      <td>Gold</td>\n",
              "    </tr>\n",
              "    <tr>\n",
              "      <th>4</th>\n",
              "      <td>1896</td>\n",
              "      <td>Athens</td>\n",
              "      <td>Aquatics</td>\n",
              "      <td>Swimming</td>\n",
              "      <td>CHASAPIS, Spiridon</td>\n",
              "      <td>GRE</td>\n",
              "      <td>Men</td>\n",
              "      <td>100M Freestyle For Sailors</td>\n",
              "      <td>Silver</td>\n",
              "    </tr>\n",
              "    <tr>\n",
              "      <th>...</th>\n",
              "      <td>...</td>\n",
              "      <td>...</td>\n",
              "      <td>...</td>\n",
              "      <td>...</td>\n",
              "      <td>...</td>\n",
              "      <td>...</td>\n",
              "      <td>...</td>\n",
              "      <td>...</td>\n",
              "      <td>...</td>\n",
              "    </tr>\n",
              "    <tr>\n",
              "      <th>31160</th>\n",
              "      <td>2012</td>\n",
              "      <td>London</td>\n",
              "      <td>Wrestling</td>\n",
              "      <td>Wrestling Freestyle</td>\n",
              "      <td>JANIKOWSKI, Damian</td>\n",
              "      <td>POL</td>\n",
              "      <td>Men</td>\n",
              "      <td>Wg 84 KG</td>\n",
              "      <td>Bronze</td>\n",
              "    </tr>\n",
              "    <tr>\n",
              "      <th>31161</th>\n",
              "      <td>2012</td>\n",
              "      <td>London</td>\n",
              "      <td>Wrestling</td>\n",
              "      <td>Wrestling Freestyle</td>\n",
              "      <td>REZAEI, Ghasem Gholamreza</td>\n",
              "      <td>IRI</td>\n",
              "      <td>Men</td>\n",
              "      <td>Wg 96 KG</td>\n",
              "      <td>Gold</td>\n",
              "    </tr>\n",
              "    <tr>\n",
              "      <th>31162</th>\n",
              "      <td>2012</td>\n",
              "      <td>London</td>\n",
              "      <td>Wrestling</td>\n",
              "      <td>Wrestling Freestyle</td>\n",
              "      <td>TOTROV, Rustam</td>\n",
              "      <td>RUS</td>\n",
              "      <td>Men</td>\n",
              "      <td>Wg 96 KG</td>\n",
              "      <td>Silver</td>\n",
              "    </tr>\n",
              "    <tr>\n",
              "      <th>31163</th>\n",
              "      <td>2012</td>\n",
              "      <td>London</td>\n",
              "      <td>Wrestling</td>\n",
              "      <td>Wrestling Freestyle</td>\n",
              "      <td>ALEKSANYAN, Artur</td>\n",
              "      <td>ARM</td>\n",
              "      <td>Men</td>\n",
              "      <td>Wg 96 KG</td>\n",
              "      <td>Bronze</td>\n",
              "    </tr>\n",
              "    <tr>\n",
              "      <th>31164</th>\n",
              "      <td>2012</td>\n",
              "      <td>London</td>\n",
              "      <td>Wrestling</td>\n",
              "      <td>Wrestling Freestyle</td>\n",
              "      <td>LIDBERG, Jimmy</td>\n",
              "      <td>SWE</td>\n",
              "      <td>Men</td>\n",
              "      <td>Wg 96 KG</td>\n",
              "      <td>Bronze</td>\n",
              "    </tr>\n",
              "  </tbody>\n",
              "</table>\n",
              "<p>31165 rows × 9 columns</p>\n",
              "</div>"
            ],
            "text/plain": [
              "       Year    City      Sport  ... Gender                       Event   Medal\n",
              "0      1896  Athens   Aquatics  ...    Men              100M Freestyle    Gold\n",
              "1      1896  Athens   Aquatics  ...    Men              100M Freestyle  Silver\n",
              "2      1896  Athens   Aquatics  ...    Men  100M Freestyle For Sailors  Bronze\n",
              "3      1896  Athens   Aquatics  ...    Men  100M Freestyle For Sailors    Gold\n",
              "4      1896  Athens   Aquatics  ...    Men  100M Freestyle For Sailors  Silver\n",
              "...     ...     ...        ...  ...    ...                         ...     ...\n",
              "31160  2012  London  Wrestling  ...    Men                    Wg 84 KG  Bronze\n",
              "31161  2012  London  Wrestling  ...    Men                    Wg 96 KG    Gold\n",
              "31162  2012  London  Wrestling  ...    Men                    Wg 96 KG  Silver\n",
              "31163  2012  London  Wrestling  ...    Men                    Wg 96 KG  Bronze\n",
              "31164  2012  London  Wrestling  ...    Men                    Wg 96 KG  Bronze\n",
              "\n",
              "[31165 rows x 9 columns]"
            ]
          },
          "metadata": {},
          "execution_count": 1
        }
      ]
    },
    {
      "cell_type": "markdown",
      "metadata": {
        "id": "_wcnp8kCqjjv"
      },
      "source": [
        "## **1. In how many cities Summer Olympics is held so far?**"
      ]
    },
    {
      "cell_type": "code",
      "metadata": {
        "colab": {
          "base_uri": "https://localhost:8080/"
        },
        "id": "E_CzVHj2qf9m",
        "outputId": "ba9f046f-bb75-4046-c111-0688a875786a"
      },
      "source": [
        "print(\"The number of cities where summer olympics was held\",len(df[\"City\"].unique()),\"\\n\")\n",
        "print(\"List of different cities:\",df[\"City\"].unique())"
      ],
      "execution_count": 2,
      "outputs": [
        {
          "output_type": "stream",
          "name": "stdout",
          "text": [
            "The number of cities where summer olympics was held 22 \n",
            "\n",
            "List of different cities: ['Athens' 'Paris' 'St Louis' 'London' 'Stockholm' 'Antwerp' 'Amsterdam'\n",
            " 'Los Angeles' 'Berlin' 'Helsinki' 'Melbourne / Stockholm' 'Rome' 'Tokyo'\n",
            " 'Mexico' 'Munich' 'Montreal' 'Moscow' 'Seoul' 'Barcelona' 'Atlanta'\n",
            " 'Sydney' 'Beijing']\n"
          ]
        }
      ]
    },
    {
      "cell_type": "markdown",
      "metadata": {
        "id": "ouVJFQrsx_TG"
      },
      "source": [
        "## **2. Which sport is having most number of Gold Medals so far? (Top 5)**\n"
      ]
    },
    {
      "cell_type": "code",
      "metadata": {
        "colab": {
          "base_uri": "https://localhost:8080/",
          "height": 679
        },
        "id": "mHXIji7F0QE8",
        "outputId": "f4dd8438-3de3-4732-c63d-5a22369959cf"
      },
      "source": [
        "Gold_Medal = df[df['Medal']==\"Gold\"]\n",
        "Sport = []\n",
        "for i in df['Sport'].unique():\n",
        "  Sport.append([i , len(df[df['Sport'] == i])])\n",
        "Sport = pd.DataFrame(Sport, columns= [\"Sport\",\"Gold\"])\n",
        "Sport = Sport.sort_values(by = \"Gold\", ascending = False).head()\n",
        "print(Sport,'\\n')\n",
        "Sport.plot(x = \"Sport\", y = \"Gold\", kind = \"bar\", figsize = (10,8))"
      ],
      "execution_count": 3,
      "outputs": [
        {
          "output_type": "stream",
          "name": "stdout",
          "text": [
            "         Sport  Gold\n",
            "0     Aquatics  4170\n",
            "1    Athletics  3638\n",
            "17      Rowing  2667\n",
            "4   Gymnastics  2307\n",
            "3      Fencing  1613 \n",
            "\n"
          ]
        },
        {
          "output_type": "execute_result",
          "data": {
            "text/plain": [
              "<matplotlib.axes._subplots.AxesSubplot at 0x7f2fee490750>"
            ]
          },
          "metadata": {},
          "execution_count": 3
        },
        {
          "output_type": "display_data",
          "data": {
            "image/png": "[encoded data removed]",
            "text/plain": [
              "<Figure size 720x576 with 1 Axes>"
            ]
          },
          "metadata": {
            "needs_background": "light"
          }
        }
      ]
    },
    {
      "cell_type": "markdown",
      "metadata": {
        "id": "-8pe3WnZDIX4"
      },
      "source": [
        "## **3. Which sport is having most number of medals so far? (Top 5)**"
      ]
    },
    {
      "cell_type": "code",
      "metadata": {
        "colab": {
          "base_uri": "https://localhost:8080/",
          "height": 679
        },
        "id": "hw9rK1Lw-U1u",
        "outputId": "8248869c-0027-43d8-df5b-cb8b40b6843e"
      },
      "source": [
        "Sport = []\n",
        "for sport in df['Sport'].unique():\n",
        "  Sport.append([sport , len(df[df['Sport'] == sport])])\n",
        "Sport = pd.DataFrame(Sport, columns= [\"Sport\",\"Medal\"])\n",
        "Sport = Sport.sort_values(by = \"Medal\", ascending = False).head()\n",
        "print(Sport,'\\n')\n",
        "Sport.plot(x = \"Sport\", y = \"Medal\", kind = \"bar\", figsize = (10,8))"
      ],
      "execution_count": 4,
      "outputs": [
        {
          "output_type": "stream",
          "name": "stdout",
          "text": [
            "         Sport  Medal\n",
            "0     Aquatics   4170\n",
            "1    Athletics   3638\n",
            "17      Rowing   2667\n",
            "4   Gymnastics   2307\n",
            "3      Fencing   1613 \n",
            "\n"
          ]
        },
        {
          "output_type": "execute_result",
          "data": {
            "text/plain": [
              "<matplotlib.axes._subplots.AxesSubplot at 0x7f2fee38ed10>"
            ]
          },
          "metadata": {},
          "execution_count": 4
        },
        {
          "output_type": "display_data",
          "data": {
            "image/png": "[encoded data removed]",
            "text/plain": [
              "<Figure size 720x576 with 1 Axes>"
            ]
          },
          "metadata": {
            "needs_background": "light"
          }
        }
      ]
    },
    {
      "cell_type": "markdown",
      "metadata": {
        "id": "cuiRBIIjEYfE"
      },
      "source": [
        "## **4. Which player has won most number of medals? (Top 5)**"
      ]
    },
    {
      "cell_type": "code",
      "metadata": {
        "colab": {
          "base_uri": "https://localhost:8080/",
          "height": 738
        },
        "id": "S3lKt6AAGJNR",
        "outputId": "4d3be9cd-ee0e-4782-b0aa-7fcb0b0831ef"
      },
      "source": [
        "Player = []\n",
        "for play in df['Athlete'].unique():\n",
        "  Player.append([play , len(df[df['Athlete'] == play])])\n",
        "Player = pd.DataFrame(Player, columns= [\"Athlete\",\"Medal\"])\n",
        "Player = Player.sort_values(by = \"Medal\", ascending = False).head()\n",
        "print(Player,'\\n')\n",
        "Player.plot(x = \"Athlete\", y = \"Medal\", kind = \"bar\", figsize = (10,8))"
      ],
      "execution_count": 5,
      "outputs": [
        {
          "output_type": "stream",
          "name": "stdout",
          "text": [
            "                    Athlete  Medal\n",
            "18640       PHELPS, Michael     22\n",
            "7197       LATYNINA, Larisa     18\n",
            "9948     ANDRIANOV, Nikolay     15\n",
            "6591           ONO, Takashi     13\n",
            "5103   MANGIAROTTI, Edoardo     13 \n",
            "\n"
          ]
        },
        {
          "output_type": "execute_result",
          "data": {
            "text/plain": [
              "<matplotlib.axes._subplots.AxesSubplot at 0x7f2fede63210>"
            ]
          },
          "metadata": {},
          "execution_count": 5
        },
        {
          "output_type": "display_data",
          "data": {
            "image/png": "[encoded data removed]",
            "text/plain": [
              "<Figure size 720x576 with 1 Axes>"
            ]
          },
          "metadata": {
            "needs_background": "light"
          }
        }
      ]
    },
    {
      "cell_type": "markdown",
      "metadata": {
        "id": "OK_8rpL5GJic"
      },
      "source": [
        "## **5. Which player has won most number Gold Medals of medals? (Top 5)**\n"
      ]
    },
    {
      "cell_type": "code",
      "metadata": {
        "colab": {
          "base_uri": "https://localhost:8080/",
          "height": 706
        },
        "id": "MxQ9DsCwGROo",
        "outputId": "30ca78dd-7cfb-43f2-aa5a-5d5482b8f232"
      },
      "source": [
        "Gold = df[df['Medal']==\"Gold\"]\n",
        "Player = []\n",
        "for play in Gold['Athlete'].unique():\n",
        "  Player.append([play , len(Gold[Gold['Athlete'] == play])])\n",
        "Player = pd.DataFrame(Player, columns= [\"Athlete\",\"Gold\"])\n",
        "Player = Player.sort_values(by = \"Gold\", ascending = False).head()\n",
        "print(Player,'\\n')\n",
        "Player.plot(x = \"Athlete\", y = \"Gold\", kind = \"bar\", figsize = (10,8))"
      ],
      "execution_count": 6,
      "outputs": [
        {
          "output_type": "stream",
          "name": "stdout",
          "text": [
            "               Athlete  Gold\n",
            "6851   PHELPS, Michael    18\n",
            "3320       SPITZ, Mark     9\n",
            "2714  LATYNINA, Larisa     9\n",
            "4630       LEWIS, Carl     9\n",
            "907       NURMI, Paavo     9 \n",
            "\n"
          ]
        },
        {
          "output_type": "execute_result",
          "data": {
            "text/plain": [
              "<matplotlib.axes._subplots.AxesSubplot at 0x7f2fede58350>"
            ]
          },
          "metadata": {},
          "execution_count": 6
        },
        {
          "output_type": "display_data",
          "data": {
            "image/png": "[encoded data removed]",
            "text/plain": [
              "<Figure size 720x576 with 1 Axes>"
            ]
          },
          "metadata": {
            "needs_background": "light"
          }
        }
      ]
    },
    {
      "cell_type": "markdown",
      "metadata": {
        "id": "KK_-0j4Bo3xD"
      },
      "source": [
        "\n",
        "## **6. In which year India won first Gold Medal in Summer Olympics?**"
      ]
    },
    {
      "cell_type": "code",
      "metadata": {
        "colab": {
          "base_uri": "https://localhost:8080/"
        },
        "id": "ONojSnEto26v",
        "outputId": "17796fc4-4a93-45c3-e1e1-769f04c4dcb6"
      },
      "source": [
        "India = df[df['Country']==\"IND\"]\n",
        "Gold = India[India[\"Medal\"]==\"Gold\"]\n",
        "Year = []\n",
        "for year in Gold[\"Year\"].unique():\n",
        "  Year.append(year)\n",
        "print(\"In\",Year[0],\", India won the first Gold Medal in Summer Olympics.\")"
      ],
      "execution_count": 10,
      "outputs": [
        {
          "output_type": "stream",
          "name": "stdout",
          "text": [
            "In 1928 , India won the first Gold Medal in Summer Olympics.\n"
          ]
        }
      ]
    },
    {
      "cell_type": "markdown",
      "metadata": {
        "id": "Xckglna7pdcB"
      },
      "source": [
        "## **7. Which event is most popular in terms on number of players? (Top 5)**"
      ]
    },
    {
      "cell_type": "code",
      "metadata": {
        "colab": {
          "base_uri": "https://localhost:8080/",
          "height": 627
        },
        "id": "nYNPxRs7pmhd",
        "outputId": "1224b316-586b-4af2-c123-03ea2f8c1162"
      },
      "source": [
        "Event = []\n",
        "for event in df['Event'].unique():\n",
        "  Event.append([event , len(df[df['Event'] == event])])\n",
        "Event = pd.DataFrame(Event, columns= [\"Event\",\"Num of player\"])\n",
        "Event = Event.sort_values(by = \"Num of player\", ascending = False).head()\n",
        "print(event,'\\n')\n",
        "Event.plot(x = \"Event\", y = \"Num of player\", kind = \"bar\", figsize = (10,8))"
      ],
      "execution_count": 13,
      "outputs": [
        {
          "output_type": "stream",
          "name": "stdout",
          "text": [
            "Wg 96 KG \n",
            "\n"
          ]
        },
        {
          "output_type": "execute_result",
          "data": {
            "text/plain": [
              "<matplotlib.axes._subplots.AxesSubplot at 0x7f2fedb46590>"
            ]
          },
          "metadata": {},
          "execution_count": 13
        },
        {
          "output_type": "display_data",
          "data": {
            "image/png": "[encoded data removed]",
            "text/plain": [
              "<Figure size 720x576 with 1 Axes>"
            ]
          },
          "metadata": {
            "needs_background": "light"
          }
        }
      ]
    },
    {
      "cell_type": "markdown",
      "metadata": {
        "id": "MTozzv9JqQNt"
      },
      "source": [
        "## **8. Which sport is having most female Gold Medalists? (Top 5)**"
      ]
    },
    {
      "cell_type": "code",
      "metadata": {
        "colab": {
          "base_uri": "https://localhost:8080/",
          "height": 679
        },
        "id": "D6Vv_ThSqTWk",
        "outputId": "feaf31fb-01b3-424f-9351-2f28493e3cbc"
      },
      "source": [
        "Female =df[df['Gender']==\"Women\"]\n",
        "g_f = Female[Female[\"Medal\"]==\"Gold\"]\n",
        "num = []\n",
        "for i in g_f[\"Sport\"].unique():\n",
        "  num.append([i , len(g_f[g_f[\"Sport\"]==i])])\n",
        "num = pd.DataFrame(num, columns= [\"Sport\",\"Num of player\"])\n",
        "num = num.sort_values(by = \"Num of player\", ascending = False).head()\n",
        "print(num,'\\n')\n",
        "num.plot(x = \"Sport\", y = \"Num of player\", kind = \"bar\", figsize = (10,8))"
      ],
      "execution_count": 14,
      "outputs": [
        {
          "output_type": "stream",
          "name": "stdout",
          "text": [
            "         Sport  Num of player\n",
            "4     Aquatics            589\n",
            "7    Athletics            389\n",
            "8   Gymnastics            268\n",
            "14      Rowing            217\n",
            "11  Volleyball            166 \n",
            "\n"
          ]
        },
        {
          "output_type": "execute_result",
          "data": {
            "text/plain": [
              "<matplotlib.axes._subplots.AxesSubplot at 0x7f2fee3a1c50>"
            ]
          },
          "metadata": {},
          "execution_count": 14
        },
        {
          "output_type": "display_data",
          "data": {
            "image/png": "[encoded data removed]",
            "text/plain": [
              "<Figure size 720x576 with 1 Axes>"
            ]
          },
          "metadata": {
            "needs_background": "light"
          }
        }
      ]
    }
  ]
}